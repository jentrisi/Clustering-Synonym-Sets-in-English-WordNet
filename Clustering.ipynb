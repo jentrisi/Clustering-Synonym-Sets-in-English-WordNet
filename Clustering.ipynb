{
 "cells": [
  {
   "cell_type": "code",
   "execution_count": 2,
   "metadata": {},
   "outputs": [],
   "source": [
    "import numpy as np\n",
    "\n",
    "def ClusterAgglo(tesa):\n",
    "    # similar = [[0 for col in range(len(tesa))] for row in range(len(tesa))]\n",
    "    distancevalue = [[0 for col in range(len(tesa))] for row in range(len(tesa))]\n",
    "\n",
    "    sim = np.zeros((len(tesa), len(tesa)))\n",
    "    for i in range(0, len(tesa)):\n",
    "        for j in range(0, len(tesa[i])):\n",
    "            for k in range(0, len(tesa)):\n",
    "                if tesa[i][j] in tesa[k]:\n",
    "                    if i != k:\n",
    "                        sim[i][k] = sim[i][k] + 1\n",
    "                        unique = (len(tesa[i]) + len(tesa[k])) - sim[i][k]  # mencari unique words dengan menjumlahkan kedua synstes & menguranginya dengan jumlah kata yg sama\n",
    "                        # print(unique)\n",
    "                        distancevalue[i][k] = sim[i][k] / unique  # mencari distance value\n",
    "    return sim, distancevalue\n",
    "\n",
    "def locateBigValue(sim):\n",
    "    largeValue = 0\n",
    "    for i in range(0, len(sim)):\n",
    "        for j in range(0, len(sim)):\n",
    "            if sim[i][j] > largeValue:\n",
    "                largeValue = sim[i][j]\n",
    "\n",
    "    return largeValue\n",
    "\n",
    "def locateBigDistance(distance):\n",
    "    largeDistance = 0\n",
    "    for i in range(0, len(distance)):\n",
    "        for j in range(0, len(distance[i])):\n",
    "            if distance[i][j] > largeDistance:\n",
    "                largeDistance = distance[i][j]\n",
    "                idxDistance1 = i\n",
    "                idxDistance2 = j\n",
    "                if largeDistance == 1:\n",
    "                    break\n",
    "\n",
    "    return largeDistance, idxDistance1, idxDistance2\n",
    "\n",
    "def output_synset(tesa, idxDistance1, idxDistance2):\n",
    "    synset = []\n",
    "    synset.append(tesa[idxDistance1])\n",
    "    synset.append(tesa[idxDistance2])\n",
    "    return synset\n",
    "\n",
    "def unite_synset(synset):\n",
    "    if len(synset)>1:\n",
    "        merged_synset = synset[0]\n",
    "        for i in range(1, len(synset)):\n",
    "            for j in range(0, len(synset[i])):\n",
    "                if synset[i][j] not in merged_synset:\n",
    "                    merged_synset.append(synset[i][j])\n",
    "    return merged_synset"
   ]
  },
  {
   "cell_type": "code",
   "execution_count": null,
   "metadata": {},
   "outputs": [],
   "source": []
  }
 ],
 "metadata": {
  "kernelspec": {
   "display_name": "Python 3",
   "language": "python",
   "name": "python3"
  },
  "language_info": {
   "codemirror_mode": {
    "name": "ipython",
    "version": 3
   },
   "file_extension": ".py",
   "mimetype": "text/x-python",
   "name": "python",
   "nbconvert_exporter": "python",
   "pygments_lexer": "ipython3",
   "version": "3.7.0"
  }
 },
 "nbformat": 4,
 "nbformat_minor": 2
}
